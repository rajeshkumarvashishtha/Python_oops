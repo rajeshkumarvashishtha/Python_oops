{
 "cells": [
  {
   "cell_type": "markdown",
   "id": "b1799640",
   "metadata": {},
   "source": [
    "## Class of data types"
   ]
  },
  {
   "cell_type": "markdown",
   "id": "d481ddb5",
   "metadata": {},
   "source": [
    "### In case of python, all data types are class, when we create an variable of that type, it will be an object of that class"
   ]
  },
  {
   "cell_type": "code",
   "execution_count": null,
   "id": "0ac487dc",
   "metadata": {},
   "outputs": [],
   "source": [
    "import tensorflow"
   ]
  },
  {
   "cell_type": "code",
   "execution_count": 1,
   "id": "b7e8b552",
   "metadata": {},
   "outputs": [],
   "source": [
    "import pyspark"
   ]
  },
  {
   "cell_type": "code",
   "execution_count": 2,
   "id": "28f23cab",
   "metadata": {},
   "outputs": [
    {
     "ename": "NameError",
     "evalue": "name 'Datatype' is not defined",
     "output_type": "error",
     "traceback": [
      "\u001b[0;31m---------------------------------------------------------------------------\u001b[0m",
      "\u001b[0;31mNameError\u001b[0m                                 Traceback (most recent call last)",
      "\u001b[0;32m<ipython-input-2-ca8a0e55b6f4>\u001b[0m in \u001b[0;36m<module>\u001b[0;34m\u001b[0m\n\u001b[0;32m----> 1\u001b[0;31m \u001b[0mDatatype\u001b[0m\u001b[0;34m(\u001b[0m\u001b[0mL\u001b[0m\u001b[0;34m)\u001b[0m\u001b[0;34m\u001b[0m\u001b[0;34m\u001b[0m\u001b[0m\n\u001b[0m",
      "\u001b[0;31mNameError\u001b[0m: name 'Datatype' is not defined"
     ]
    }
   ],
   "source": [
    "Datatype(L)"
   ]
  },
  {
   "cell_type": "markdown",
   "id": "49adf3b7",
   "metadata": {},
   "source": [
    "# class have two thing\n",
    "1. data or property \n",
    "2. Function or behavior\n",
    "\n",
    "## Python Naming Conventions\n",
    "### 1. General\n",
    "Avoid using names that are too general or too wordy. Strike a good balance between the two.\n",
    "Bad: data_structure, my_list, info_map, dictionary_for_the_purpose_of_storing_data_representing_word_definitions\n",
    "Good: user_profile, menu_options, word_definitions\n",
    "Don’t be a jackass and name things “O”, “l”, or “I”\n",
    "When using CamelCase names, capitalize all letters of an abbreviation (e.g. HTTPServer)\n",
    "### 2. Packages\n",
    "Package names should be all lower case\n",
    "When multiple words are needed, an underscore should separate them\n",
    "It is usually preferable to stick to 1 word names\n",
    "### 3. Modules\n",
    "Module names should be all lower case\n",
    "When multiple words are needed, an underscore should separate them\n",
    "It is usually preferable to stick to 1 word names\n",
    "### 4. Classes\n",
    "Class names should follow the UpperCaseCamelCase convention\n",
    "Python’s built-in classes, however are typically lowercase words\n",
    "Exception classes should end in “Error”\n",
    "### 5. Global (module-level) Variables\n",
    "Global variables should be all lowercase\n",
    "Words in a global variable name should be separated by an underscore\n",
    "### 6. Instance Variables\n",
    "Instance variable names should be all lower case\n",
    "Words in an instance variable name should be separated by an underscore\n",
    "Non-public instance variables should begin with a single underscore\n",
    "If an instance name needs to be mangled, two underscores may begin its name\n",
    "### 7. Methods\n",
    "Method names should be all lower case\n",
    "Words in an method name should be separated by an underscore\n",
    "Non-public method should begin with a single underscore\n",
    "If a method name needs to be mangled, two underscores may begin its name\n",
    "### 8. Method Arguments\n",
    "Instance methods should have their first argument named ‘self’.\n",
    "Class methods should have their first argument named ‘cls’\n",
    "### 9. Functions\n",
    "Function names should be all lower case\n",
    "Words in a function name should be separated by an underscore\n",
    "### 10. Constants\n",
    "Constant names must be fully capitalized\n",
    "Words in a constant name should be separated by an underscore"
   ]
  },
  {
   "cell_type": "markdown",
   "id": "8bee9f0b",
   "metadata": {},
   "source": [
    "### Class name is in CamelCase\n",
    "### variable and function name are in snake_case"
   ]
  },
  {
   "cell_type": "code",
   "execution_count": null,
   "id": "b13a14d9",
   "metadata": {},
   "outputs": [],
   "source": [
    "Class Car:\n",
    "    def __init__(self,number_of_weels,color)"
   ]
  },
  {
   "cell_type": "code",
   "execution_count": null,
   "id": "23089ae2",
   "metadata": {},
   "outputs": [],
   "source": [
    "#function verses methods\n",
    "Function just outside the class\n",
    "methods is a function which is define inside the class"
   ]
  },
  {
   "cell_type": "markdown",
   "id": "661081c4",
   "metadata": {},
   "source": [
    "## Atm software"
   ]
  },
  {
   "cell_type": "code",
   "execution_count": 42,
   "id": "3894d120",
   "metadata": {},
   "outputs": [],
   "source": [
    "class Atm:\n",
    "    \n",
    "    #Constructor\n",
    "    #special method/magic method/ Dunder methods\n",
    "    def __init__(self):\n",
    "        self.pin=''\n",
    "        self.balance=0\n",
    "        print(id(self))\n",
    "        self.menu()\n",
    "    \n",
    "    \n",
    "    def menu(self):\n",
    "        user_input=input('''\n",
    "        Hello, how would you like to proceed?\n",
    "        1. Enter 1 to create a pin.\n",
    "        2. Enter 2 to deposit\n",
    "        3. Enter 3 to withdraw\n",
    "        4. Enter 4 to check balance\n",
    "        5. Enter 5 to exit''')\n",
    "        if user_input=='1':\n",
    "            print('Create Pin')\n",
    "            self.create_pin()\n",
    "        elif user_input=='2':\n",
    "            print('Deposit')\n",
    "            self.deposite()\n",
    "        elif user_input=='3':\n",
    "            print('withdraw')\n",
    "            self.withdraw()\n",
    "        elif user_input=='4':\n",
    "            print('balance')\n",
    "            self.check_balance()\n",
    "        elif user_input=='5':\n",
    "            print('bye')\n",
    "        else:\n",
    "            print(\"incorrect input\")\n",
    "            \n",
    "            \n",
    "    def create_pin(self):\n",
    "        self.pin=input(\"Enter your pin\")\n",
    "        print(\"pin set successfully\")\n",
    "        \n",
    "\n",
    "        \n",
    "        \n",
    "    def deposite(self):\n",
    "        temp=input('Enter your pin')\n",
    "        if temp==self.pin:\n",
    "            ammount=int(input('Enter your ammount'))\n",
    "            self.balance=self.balance+ammount\n",
    "            print(\"Deposit successful\")\n",
    "        else:\n",
    "            print(\"invalid pin\")\n",
    "    \n",
    "    \n",
    "    def withdraw(self):\n",
    "        temp=input('Enter your pin')\n",
    "        if temp==self.pin:\n",
    "            ammount=int(input('Enter your ammount'))\n",
    "            if self.balance>=ammount:\n",
    "                self.balance=self.balance-ammount\n",
    "                print(\"withdraw successful\")\n",
    "            else:\n",
    "                print('Not enough balance for withdrawal')\n",
    "        else:\n",
    "            print(\"invalid pin\")\n",
    "            \n",
    "    def check_balance(self):\n",
    "        temp=input('Enter your pin')\n",
    "        if temp==self.pin:\n",
    "            print('Balance:',self.balance)\n",
    "            \n",
    "            "
   ]
  },
  {
   "cell_type": "markdown",
   "id": "c7b15058",
   "metadata": {},
   "source": [
    "Constructor: it is a special methods which is autumetically\n",
    "run while creating the object"
   ]
  },
  {
   "cell_type": "code",
   "execution_count": 43,
   "id": "e217ca1b",
   "metadata": {},
   "outputs": [
    {
     "name": "stdout",
     "output_type": "stream",
     "text": [
      "140267335502384\n",
      "\n",
      "        Hello, how would you like to proceed?\n",
      "        1. Enter 1 to create a pin.\n",
      "        2. Enter 2 to deposit\n",
      "        3. Enter 3 to withdraw\n",
      "        4. Enter 4 to check balance\n",
      "        5. Enter 5 to exit5\n",
      "bye\n"
     ]
    }
   ],
   "source": [
    "a=Atm()"
   ]
  },
  {
   "cell_type": "code",
   "execution_count": 37,
   "id": "3fc1e11d",
   "metadata": {},
   "outputs": [
    {
     "name": "stdout",
     "output_type": "stream",
     "text": [
      "\n",
      "        Hello, how would you like to proceed?\n",
      "        1. Enter 1 to create a pin.\n",
      "        2. Enter 2 to deposit\n",
      "        3. Enter 3 to withdraw\n",
      "        4. Enter 4 to check balance\n",
      "        5. Enter 5 to exit2\n",
      "Deposit\n",
      "Enter your pin1234\n",
      "Enter your ammount1234567\n",
      "Deposit successful\n"
     ]
    }
   ],
   "source": [
    "a.menu()"
   ]
  },
  {
   "cell_type": "code",
   "execution_count": 38,
   "id": "f215d082",
   "metadata": {},
   "outputs": [
    {
     "name": "stdout",
     "output_type": "stream",
     "text": [
      "\n",
      "        Hello, how would you like to proceed?\n",
      "        1. Enter 1 to create a pin.\n",
      "        2. Enter 2 to deposit\n",
      "        3. Enter 3 to withdraw\n",
      "        4. Enter 4 to check balance\n",
      "        5. Enter 5 to exit4\n",
      "balance\n",
      "Enter your pin1234\n",
      "Balance: 1234567\n"
     ]
    }
   ],
   "source": [
    "a.menu()"
   ]
  },
  {
   "cell_type": "code",
   "execution_count": 44,
   "id": "9c1f1aea",
   "metadata": {},
   "outputs": [],
   "source": [
    "# create your own data type\n",
    "Class for Fraction Data type "
   ]
  },
  {
   "cell_type": "code",
   "execution_count": 282,
   "id": "dc6ee9e9",
   "metadata": {},
   "outputs": [],
   "source": [
    "def gcd(n, d):\n",
    "    while n != d:\n",
    "        if n > d:\n",
    "            n = n - d\n",
    "        else:\n",
    "            d = d - n\n",
    "    return n\n",
    "\n",
    "def simplify(n,d):\n",
    "    num = int(n / gcd(abs(n), abs(d)))\n",
    "    denom = int(d / gcd(abs(n), abs(d)))\n",
    "    if denom < 0:\n",
    "        denom = abs(denom)\n",
    "        num = -1*num\n",
    "    return num,denom\n",
    "    \n",
    "class Fraction:\n",
    "    def __init__(self,n,d):\n",
    "        if(d!=0):\n",
    "            n,d=simplify(n,d)\n",
    "            self.num=n\n",
    "            self.den=d\n",
    "        else:\n",
    "            raise ZeroDivisionError\n",
    "        \n",
    "    def __str__(self):\n",
    "        if self.den!=1:\n",
    "            return \"{}/{}\".format(self.num,self.den)\n",
    "        else:\n",
    "            return \"{}\".format(self.num,self)\n",
    "            \n",
    "        \n",
    "    def __add__(self,other):\n",
    "        temp_num=self.num*other.den+other.num*self.den\n",
    "        temp_den=self.den*other.den\n",
    "        temp_num,temp_den=simplify(temp_num,temp_den)\n",
    "        if temp_den!=1:\n",
    "            return \"{}/{}\".format(temp_num,temp_den)\n",
    "        else:\n",
    "            return \"{}\".format(temp_num)\n",
    "    \n",
    "    def __sub__(self,other):\n",
    "        temp_num=self.num*other.den-other.num*self.den\n",
    "        temp_den=self.den*other.den\n",
    "        temp_num,temp_den=simplify(temp_num,temp_den)\n",
    "        if temp_den!=1:\n",
    "            return \"{}/{}\".format(temp_num,temp_den)\n",
    "        else:\n",
    "            return \"{}\".format(temp_num)\n",
    "    def __mul__(self,other):\n",
    "        temp_num=self.num*other.num\n",
    "        temp_den=self.den*other.den\n",
    "        temp_num,temp_den=simplify(temp_num,temp_den)\n",
    "        if temp_den!=1:\n",
    "            return \"{}/{}\".format(temp_num,temp_den)\n",
    "        else:\n",
    "            return \"{}\".format(temp_num)\n",
    "    def __truediv__(self,other):\n",
    "        temp_num=self.num*other.den\n",
    "        temp_den=self.den*other.num\n",
    "        temp_num,temp_den=simplify(temp_num,temp_den)\n",
    "        if temp_den!=1:\n",
    "            return \"{}/{}\".format(temp_num,temp_den)\n",
    "        else:\n",
    "            return \"{}\".format(temp_num)\n",
    "    def __eq__(self,other):\n",
    "        if self.num*other.den==other.num*self.den:\n",
    "            return True\n",
    "        else:\n",
    "            return False\n",
    "    \n",
    "    \n",
    "    def __lt__(self,other):\n",
    "        if self.num*other.den<other.num*self.den:\n",
    "            return True\n",
    "        else:\n",
    "            return False\n",
    "    def __le__(self,other):\n",
    "        if self.num*other.den<=other.num*self.den:\n",
    "            return True\n",
    "        else:\n",
    "            return False\n",
    "    def __gt__(self,other):\n",
    "        if self.num*other.den>other.num*self.den:\n",
    "            return True\n",
    "        else:\n",
    "            return False\n",
    "    def __ge__(self,other):\n",
    "        if self.num*other.den>=other.num*self.den:\n",
    "            return True\n",
    "        else:\n",
    "            return False\n",
    "    def __ne__(self,other):\n",
    "        if self.num*other.den!=other.num*self.den:\n",
    "            return True\n",
    "        else:\n",
    "            return False\n",
    "        \n",
    "    \n",
    "    \n",
    "        \n",
    "        "
   ]
  },
  {
   "cell_type": "code",
   "execution_count": 300,
   "id": "93fb968b",
   "metadata": {},
   "outputs": [],
   "source": [
    "x=Fraction(3,4)"
   ]
  },
  {
   "cell_type": "code",
   "execution_count": 313,
   "id": "c3217e0e",
   "metadata": {},
   "outputs": [
    {
     "data": {
      "text/plain": [
       "int"
      ]
     },
     "execution_count": 313,
     "metadata": {},
     "output_type": "execute_result"
    }
   ],
   "source": [
    "type(x)"
   ]
  },
  {
   "cell_type": "code",
   "execution_count": 312,
   "id": "1cfce69b",
   "metadata": {},
   "outputs": [
    {
     "data": {
      "text/plain": [
       "23.666666666666668"
      ]
     },
     "execution_count": 312,
     "metadata": {},
     "output_type": "execute_result"
    }
   ],
   "source": [
    "2/3+23"
   ]
  },
  {
   "cell_type": "code",
   "execution_count": 310,
   "id": "09782298",
   "metadata": {},
   "outputs": [
    {
     "data": {
      "text/plain": [
       "6"
      ]
     },
     "execution_count": 310,
     "metadata": {},
     "output_type": "execute_result"
    }
   ],
   "source": [
    "x.__add__(4)"
   ]
  },
  {
   "cell_type": "code",
   "execution_count": 296,
   "id": "eedcdbc1",
   "metadata": {},
   "outputs": [
    {
     "data": {
      "text/plain": [
       "140266548403120"
      ]
     },
     "execution_count": 296,
     "metadata": {},
     "output_type": "execute_result"
    }
   ],
   "source": [
    "id(y)"
   ]
  },
  {
   "cell_type": "code",
   "execution_count": 294,
   "id": "63bab20d",
   "metadata": {},
   "outputs": [],
   "source": [
    "y=Fraction(3,1)"
   ]
  },
  {
   "cell_type": "code",
   "execution_count": 267,
   "id": "af25a7c2",
   "metadata": {},
   "outputs": [
    {
     "name": "stdout",
     "output_type": "stream",
     "text": [
      "1/16\n"
     ]
    }
   ],
   "source": [
    "print(y)"
   ]
  },
  {
   "cell_type": "code",
   "execution_count": 268,
   "id": "81af8a42",
   "metadata": {},
   "outputs": [
    {
     "name": "stdout",
     "output_type": "stream",
     "text": [
      "49/16\n"
     ]
    }
   ],
   "source": [
    "print(x+y)"
   ]
  },
  {
   "cell_type": "code",
   "execution_count": 269,
   "id": "9e7ef37f",
   "metadata": {},
   "outputs": [
    {
     "name": "stdout",
     "output_type": "stream",
     "text": [
      "47/16\n"
     ]
    }
   ],
   "source": [
    "print(x-y)"
   ]
  },
  {
   "cell_type": "code",
   "execution_count": 270,
   "id": "c5c56d4c",
   "metadata": {},
   "outputs": [
    {
     "name": "stdout",
     "output_type": "stream",
     "text": [
      "3/16\n"
     ]
    }
   ],
   "source": [
    "print(x*y)"
   ]
  },
  {
   "cell_type": "code",
   "execution_count": 271,
   "id": "474ff140",
   "metadata": {},
   "outputs": [
    {
     "name": "stdout",
     "output_type": "stream",
     "text": [
      "48\n"
     ]
    }
   ],
   "source": [
    "print(x/y)"
   ]
  },
  {
   "cell_type": "code",
   "execution_count": 272,
   "id": "e907b562",
   "metadata": {},
   "outputs": [
    {
     "data": {
      "text/plain": [
       "False"
      ]
     },
     "execution_count": 272,
     "metadata": {},
     "output_type": "execute_result"
    }
   ],
   "source": [
    "(x<=y)"
   ]
  },
  {
   "cell_type": "code",
   "execution_count": 178,
   "id": "a9e47bca",
   "metadata": {},
   "outputs": [],
   "source": [
    "a=4\n",
    "b=3"
   ]
  },
  {
   "cell_type": "code",
   "execution_count": 179,
   "id": "868fed1c",
   "metadata": {},
   "outputs": [
    {
     "data": {
      "text/plain": [
       "False"
      ]
     },
     "execution_count": 179,
     "metadata": {},
     "output_type": "execute_result"
    }
   ],
   "source": [
    "a.__eq__(b)"
   ]
  },
  {
   "cell_type": "code",
   "execution_count": null,
   "id": "4c2f83f5",
   "metadata": {},
   "outputs": [],
   "source": []
  },
  {
   "cell_type": "code",
   "execution_count": null,
   "id": "bdf9de06",
   "metadata": {},
   "outputs": [],
   "source": []
  },
  {
   "cell_type": "code",
   "execution_count": 90,
   "id": "3b8661a1",
   "metadata": {},
   "outputs": [
    {
     "name": "stdout",
     "output_type": "stream",
     "text": [
      "0 -7/4 -1/4 3/4 -4/3 -1 -3/4\n",
      "It is not a fraction\n"
     ]
    }
   ],
   "source": [
    "def gcd(n, d):\n",
    "    while n != d:\n",
    "        if n > d:\n",
    "            n = n - d\n",
    "        else:\n",
    "            d = d - n\n",
    "    return n\n",
    "class Fraction:\n",
    "    def __init__(self, n, d):\n",
    "        self.num = int(n / gcd(abs(n), abs(d)))\n",
    "        self.denom = int(d / gcd(abs(n), abs(d)))\n",
    "        if self.denom < 0:\n",
    "            self.denom = abs(self.denom)\n",
    "            self.num = -1*self.num\n",
    "        elif self.denom == 0:\n",
    "            raise ZeroDivisionError\n",
    "\n",
    "    def Add(self, other):\n",
    "        return self.num*other.denom + self.denom*other.num, self.denom*other.denom\n",
    "    def Sub(self, other):\n",
    "        return self.num*other.denom - self.denom*other.num, self.denom*other.denom\n",
    "    def Mul(self, other):\n",
    "        return self.num*other.num, self.denom*other.denom\n",
    "    def Div(self, other):\n",
    "        return self.num*other.denom, self.denom*other.num\n",
    "    def __str__(self):\n",
    "        if type(self) is tuple:\n",
    "            if self[1] < 0:\n",
    "                return '%s/%s' %(self[0], -1*self[1])\n",
    "            else:\n",
    "                return '%s/%s' %(self[0], self[1])\n",
    "        elif self.denom == 1:\n",
    "            return str(self.num)\n",
    "        else:\n",
    "            return '%s/%s' %(self.num, self.denom)\n",
    "    def __cmp__(self, arg):\n",
    "        if self > arg:\n",
    "            return -1\n",
    "        elif self == arg:\n",
    "            return 0\n",
    "        else:\n",
    "            return 1\n",
    "    def __nonzero__(self):\n",
    "        if self != 0:\n",
    "            return True\n",
    "        else:\n",
    "            return False\n",
    "def main():\n",
    "    f1 = Fraction(2,-2)\n",
    "    f2 = Fraction(3,-4)\n",
    "    f3 = Fraction.Add(f1,f2)\n",
    "    f4 = Fraction.Sub(f1,f2)\n",
    "    f5 = Fraction.Mul(f1,f2)\n",
    "    f6 = Fraction.Div(f1,f2)\n",
    "    f8 = 0\n",
    "    print(Fraction.__cmp__(f4,f4),Fraction.__str__(f3),Fraction.__str__(f4),Fraction.__str__(f5),Fraction.__str__(f6), Fraction.__str__(f1), Fraction.__str__(f2))\n",
    "    if Fraction.__nonzero__(f8):\n",
    "        print(\"It is a fraction\")\n",
    "    else:\n",
    "        print(\"It is not a fraction\")\n",
    "    return 0\n",
    "if __name__ == '__main__':\n",
    "    main()\n"
   ]
  },
  {
   "cell_type": "code",
   "execution_count": 328,
   "id": "66143fe6",
   "metadata": {},
   "outputs": [
    {
     "ename": "RuntimeError",
     "evalue": "Java gateway process exited before sending its port number",
     "output_type": "error",
     "traceback": [
      "\u001b[0;31m---------------------------------------------------------------------------\u001b[0m",
      "\u001b[0;31mRuntimeError\u001b[0m                              Traceback (most recent call last)",
      "\u001b[0;32m<ipython-input-328-cd584bab3ec3>\u001b[0m in \u001b[0;36m<module>\u001b[0;34m\u001b[0m\n\u001b[1;32m      6\u001b[0m \u001b[0;34m\u001b[0m\u001b[0m\n\u001b[1;32m      7\u001b[0m \u001b[0;31m# creating sparksession and giving an app name\u001b[0m\u001b[0;34m\u001b[0m\u001b[0;34m\u001b[0m\u001b[0;34m\u001b[0m\u001b[0m\n\u001b[0;32m----> 8\u001b[0;31m \u001b[0mspark\u001b[0m \u001b[0;34m=\u001b[0m \u001b[0mSparkSession\u001b[0m\u001b[0;34m.\u001b[0m\u001b[0mbuilder\u001b[0m\u001b[0;34m.\u001b[0m\u001b[0mappName\u001b[0m\u001b[0;34m(\u001b[0m\u001b[0;34m'sparkdf'\u001b[0m\u001b[0;34m)\u001b[0m\u001b[0;34m.\u001b[0m\u001b[0mgetOrCreate\u001b[0m\u001b[0;34m(\u001b[0m\u001b[0;34m)\u001b[0m\u001b[0;34m\u001b[0m\u001b[0;34m\u001b[0m\u001b[0m\n\u001b[0m\u001b[1;32m      9\u001b[0m \u001b[0;34m\u001b[0m\u001b[0m\n\u001b[1;32m     10\u001b[0m \u001b[0;31m# Column names for the dataframe\u001b[0m\u001b[0;34m\u001b[0m\u001b[0;34m\u001b[0m\u001b[0;34m\u001b[0m\u001b[0m\n",
      "\u001b[0;32m~/opt/anaconda3/lib/python3.8/site-packages/pyspark/sql/session.py\u001b[0m in \u001b[0;36mgetOrCreate\u001b[0;34m(self)\u001b[0m\n\u001b[1;32m    475\u001b[0m                         \u001b[0msparkConf\u001b[0m\u001b[0;34m.\u001b[0m\u001b[0mset\u001b[0m\u001b[0;34m(\u001b[0m\u001b[0mkey\u001b[0m\u001b[0;34m,\u001b[0m \u001b[0mvalue\u001b[0m\u001b[0;34m)\u001b[0m\u001b[0;34m\u001b[0m\u001b[0;34m\u001b[0m\u001b[0m\n\u001b[1;32m    476\u001b[0m                     \u001b[0;31m# This SparkContext may be an existing one.\u001b[0m\u001b[0;34m\u001b[0m\u001b[0;34m\u001b[0m\u001b[0;34m\u001b[0m\u001b[0m\n\u001b[0;32m--> 477\u001b[0;31m                     \u001b[0msc\u001b[0m \u001b[0;34m=\u001b[0m \u001b[0mSparkContext\u001b[0m\u001b[0;34m.\u001b[0m\u001b[0mgetOrCreate\u001b[0m\u001b[0;34m(\u001b[0m\u001b[0msparkConf\u001b[0m\u001b[0;34m)\u001b[0m\u001b[0;34m\u001b[0m\u001b[0;34m\u001b[0m\u001b[0m\n\u001b[0m\u001b[1;32m    478\u001b[0m                     \u001b[0;31m# Do not update `SparkConf` for existing `SparkContext`, as it's shared\u001b[0m\u001b[0;34m\u001b[0m\u001b[0;34m\u001b[0m\u001b[0;34m\u001b[0m\u001b[0m\n\u001b[1;32m    479\u001b[0m                     \u001b[0;31m# by all sessions.\u001b[0m\u001b[0;34m\u001b[0m\u001b[0;34m\u001b[0m\u001b[0;34m\u001b[0m\u001b[0m\n",
      "\u001b[0;32m~/opt/anaconda3/lib/python3.8/site-packages/pyspark/context.py\u001b[0m in \u001b[0;36mgetOrCreate\u001b[0;34m(cls, conf)\u001b[0m\n\u001b[1;32m    510\u001b[0m         \u001b[0;32mwith\u001b[0m \u001b[0mSparkContext\u001b[0m\u001b[0;34m.\u001b[0m\u001b[0m_lock\u001b[0m\u001b[0;34m:\u001b[0m\u001b[0;34m\u001b[0m\u001b[0;34m\u001b[0m\u001b[0m\n\u001b[1;32m    511\u001b[0m             \u001b[0;32mif\u001b[0m \u001b[0mSparkContext\u001b[0m\u001b[0;34m.\u001b[0m\u001b[0m_active_spark_context\u001b[0m \u001b[0;32mis\u001b[0m \u001b[0;32mNone\u001b[0m\u001b[0;34m:\u001b[0m\u001b[0;34m\u001b[0m\u001b[0;34m\u001b[0m\u001b[0m\n\u001b[0;32m--> 512\u001b[0;31m                 \u001b[0mSparkContext\u001b[0m\u001b[0;34m(\u001b[0m\u001b[0mconf\u001b[0m\u001b[0;34m=\u001b[0m\u001b[0mconf\u001b[0m \u001b[0;32mor\u001b[0m \u001b[0mSparkConf\u001b[0m\u001b[0;34m(\u001b[0m\u001b[0;34m)\u001b[0m\u001b[0;34m)\u001b[0m\u001b[0;34m\u001b[0m\u001b[0;34m\u001b[0m\u001b[0m\n\u001b[0m\u001b[1;32m    513\u001b[0m             \u001b[0;32massert\u001b[0m \u001b[0mSparkContext\u001b[0m\u001b[0;34m.\u001b[0m\u001b[0m_active_spark_context\u001b[0m \u001b[0;32mis\u001b[0m \u001b[0;32mnot\u001b[0m \u001b[0;32mNone\u001b[0m\u001b[0;34m\u001b[0m\u001b[0;34m\u001b[0m\u001b[0m\n\u001b[1;32m    514\u001b[0m             \u001b[0;32mreturn\u001b[0m \u001b[0mSparkContext\u001b[0m\u001b[0;34m.\u001b[0m\u001b[0m_active_spark_context\u001b[0m\u001b[0;34m\u001b[0m\u001b[0;34m\u001b[0m\u001b[0m\n",
      "\u001b[0;32m~/opt/anaconda3/lib/python3.8/site-packages/pyspark/context.py\u001b[0m in \u001b[0;36m__init__\u001b[0;34m(self, master, appName, sparkHome, pyFiles, environment, batchSize, serializer, conf, gateway, jsc, profiler_cls, udf_profiler_cls, memory_profiler_cls)\u001b[0m\n\u001b[1;32m    196\u001b[0m             )\n\u001b[1;32m    197\u001b[0m \u001b[0;34m\u001b[0m\u001b[0m\n\u001b[0;32m--> 198\u001b[0;31m         \u001b[0mSparkContext\u001b[0m\u001b[0;34m.\u001b[0m\u001b[0m_ensure_initialized\u001b[0m\u001b[0;34m(\u001b[0m\u001b[0mself\u001b[0m\u001b[0;34m,\u001b[0m \u001b[0mgateway\u001b[0m\u001b[0;34m=\u001b[0m\u001b[0mgateway\u001b[0m\u001b[0;34m,\u001b[0m \u001b[0mconf\u001b[0m\u001b[0;34m=\u001b[0m\u001b[0mconf\u001b[0m\u001b[0;34m)\u001b[0m\u001b[0;34m\u001b[0m\u001b[0;34m\u001b[0m\u001b[0m\n\u001b[0m\u001b[1;32m    199\u001b[0m         \u001b[0;32mtry\u001b[0m\u001b[0;34m:\u001b[0m\u001b[0;34m\u001b[0m\u001b[0;34m\u001b[0m\u001b[0m\n\u001b[1;32m    200\u001b[0m             self._do_init(\n",
      "\u001b[0;32m~/opt/anaconda3/lib/python3.8/site-packages/pyspark/context.py\u001b[0m in \u001b[0;36m_ensure_initialized\u001b[0;34m(cls, instance, gateway, conf)\u001b[0m\n\u001b[1;32m    430\u001b[0m         \u001b[0;32mwith\u001b[0m \u001b[0mSparkContext\u001b[0m\u001b[0;34m.\u001b[0m\u001b[0m_lock\u001b[0m\u001b[0;34m:\u001b[0m\u001b[0;34m\u001b[0m\u001b[0;34m\u001b[0m\u001b[0m\n\u001b[1;32m    431\u001b[0m             \u001b[0;32mif\u001b[0m \u001b[0;32mnot\u001b[0m \u001b[0mSparkContext\u001b[0m\u001b[0;34m.\u001b[0m\u001b[0m_gateway\u001b[0m\u001b[0;34m:\u001b[0m\u001b[0;34m\u001b[0m\u001b[0;34m\u001b[0m\u001b[0m\n\u001b[0;32m--> 432\u001b[0;31m                 \u001b[0mSparkContext\u001b[0m\u001b[0;34m.\u001b[0m\u001b[0m_gateway\u001b[0m \u001b[0;34m=\u001b[0m \u001b[0mgateway\u001b[0m \u001b[0;32mor\u001b[0m \u001b[0mlaunch_gateway\u001b[0m\u001b[0;34m(\u001b[0m\u001b[0mconf\u001b[0m\u001b[0;34m)\u001b[0m\u001b[0;34m\u001b[0m\u001b[0;34m\u001b[0m\u001b[0m\n\u001b[0m\u001b[1;32m    433\u001b[0m                 \u001b[0mSparkContext\u001b[0m\u001b[0;34m.\u001b[0m\u001b[0m_jvm\u001b[0m \u001b[0;34m=\u001b[0m \u001b[0mSparkContext\u001b[0m\u001b[0;34m.\u001b[0m\u001b[0m_gateway\u001b[0m\u001b[0;34m.\u001b[0m\u001b[0mjvm\u001b[0m\u001b[0;34m\u001b[0m\u001b[0;34m\u001b[0m\u001b[0m\n\u001b[1;32m    434\u001b[0m \u001b[0;34m\u001b[0m\u001b[0m\n",
      "\u001b[0;32m~/opt/anaconda3/lib/python3.8/site-packages/pyspark/java_gateway.py\u001b[0m in \u001b[0;36mlaunch_gateway\u001b[0;34m(conf, popen_kwargs)\u001b[0m\n\u001b[1;32m    104\u001b[0m \u001b[0;34m\u001b[0m\u001b[0m\n\u001b[1;32m    105\u001b[0m             \u001b[0;32mif\u001b[0m \u001b[0;32mnot\u001b[0m \u001b[0mos\u001b[0m\u001b[0;34m.\u001b[0m\u001b[0mpath\u001b[0m\u001b[0;34m.\u001b[0m\u001b[0misfile\u001b[0m\u001b[0;34m(\u001b[0m\u001b[0mconn_info_file\u001b[0m\u001b[0;34m)\u001b[0m\u001b[0;34m:\u001b[0m\u001b[0;34m\u001b[0m\u001b[0;34m\u001b[0m\u001b[0m\n\u001b[0;32m--> 106\u001b[0;31m                 \u001b[0;32mraise\u001b[0m \u001b[0mRuntimeError\u001b[0m\u001b[0;34m(\u001b[0m\u001b[0;34m\"Java gateway process exited before sending its port number\"\u001b[0m\u001b[0;34m)\u001b[0m\u001b[0;34m\u001b[0m\u001b[0;34m\u001b[0m\u001b[0m\n\u001b[0m\u001b[1;32m    107\u001b[0m \u001b[0;34m\u001b[0m\u001b[0m\n\u001b[1;32m    108\u001b[0m             \u001b[0;32mwith\u001b[0m \u001b[0mopen\u001b[0m\u001b[0;34m(\u001b[0m\u001b[0mconn_info_file\u001b[0m\u001b[0;34m,\u001b[0m \u001b[0;34m\"rb\"\u001b[0m\u001b[0;34m)\u001b[0m \u001b[0;32mas\u001b[0m \u001b[0minfo\u001b[0m\u001b[0;34m:\u001b[0m\u001b[0;34m\u001b[0m\u001b[0;34m\u001b[0m\u001b[0m\n",
      "\u001b[0;31mRuntimeError\u001b[0m: Java gateway process exited before sending its port number"
     ]
    }
   ],
   "source": [
    "# importing module\n",
    "import pyspark\n",
    "  \n",
    "# importing sparksession from pyspark.sql module\n",
    "from pyspark.sql import SparkSession\n",
    "  \n",
    "# creating sparksession and giving an app name\n",
    "spark = SparkSession.builder.appName('sparkdf').getOrCreate()\n",
    "  \n",
    "# Column names for the dataframe\n",
    "columns = [\"Brand\", \"Product\"]\n",
    "  \n",
    "# Row data for the dataframe\n",
    "data = [\n",
    "    (\"HP\", \"Laptop\"),\n",
    "    (\"Lenovo\", \"Mouse\"),\n",
    "    (\"Dell\", \"Keyboard\"),\n",
    "    (\"Samsung\", \"Monitor\"),\n",
    "    (\"MSI\", \"Graphics Card\"),\n",
    "    (\"Asus\", \"Motherboard\"),\n",
    "    (\"Gigabyte\", \"Motherboard\"),\n",
    "    (\"Zebronics\", \"Cabinet\"),\n",
    "    (\"Adata\", \"RAM\"),\n",
    "    (\"Transcend\", \"SSD\"),\n",
    "    (\"Kingston\", \"HDD\"),\n",
    "    (\"Toshiba\", \"DVD Writer\")\n",
    "]\n",
    "  \n",
    "# Create the dataframe using the above values\n",
    "prod_df = spark.createDataFrame(data=data,\n",
    "                                schema=columns)\n",
    "  \n",
    "# View the dataframe\n",
    "prod_df.show()"
   ]
  },
  {
   "cell_type": "code",
   "execution_count": 327,
   "id": "3e96221c",
   "metadata": {},
   "outputs": [
    {
     "ename": "AttributeError",
     "evalue": "'SparkConf' object has no attribute 'createDataFrame'",
     "output_type": "error",
     "traceback": [
      "\u001b[0;31m---------------------------------------------------------------------------\u001b[0m",
      "\u001b[0;31mAttributeError\u001b[0m                            Traceback (most recent call last)",
      "\u001b[0;32m<ipython-input-327-97371dffefe8>\u001b[0m in \u001b[0;36m<module>\u001b[0;34m\u001b[0m\n\u001b[1;32m      1\u001b[0m \u001b[0;32mimport\u001b[0m \u001b[0mpyspark\u001b[0m\u001b[0;34m\u001b[0m\u001b[0;34m\u001b[0m\u001b[0m\n\u001b[1;32m      2\u001b[0m \u001b[0mdata\u001b[0m \u001b[0;34m=\u001b[0m \u001b[0;34m[\u001b[0m\u001b[0;34m[\u001b[0m\u001b[0;34m-\u001b[0m\u001b[0;36m1\u001b[0m\u001b[0;34m,\u001b[0m \u001b[0;36m2\u001b[0m\u001b[0;34m]\u001b[0m\u001b[0;34m,\u001b[0m \u001b[0;34m[\u001b[0m\u001b[0;34m-\u001b[0m\u001b[0;36m0.5\u001b[0m\u001b[0;34m,\u001b[0m \u001b[0;36m6\u001b[0m\u001b[0;34m]\u001b[0m\u001b[0;34m,\u001b[0m \u001b[0;34m[\u001b[0m\u001b[0;36m0\u001b[0m\u001b[0;34m,\u001b[0m \u001b[0;36m10\u001b[0m\u001b[0;34m]\u001b[0m\u001b[0;34m,\u001b[0m \u001b[0;34m[\u001b[0m\u001b[0;36m1\u001b[0m\u001b[0;34m,\u001b[0m \u001b[0;36m18\u001b[0m\u001b[0;34m]\u001b[0m\u001b[0;34m]\u001b[0m\u001b[0;34m\u001b[0m\u001b[0;34m\u001b[0m\u001b[0m\n\u001b[0;32m----> 3\u001b[0;31m \u001b[0mdf\u001b[0m \u001b[0;34m=\u001b[0m \u001b[0mspark\u001b[0m\u001b[0;34m.\u001b[0m\u001b[0mcreateDataFrame\u001b[0m\u001b[0;34m(\u001b[0m\u001b[0mdata\u001b[0m\u001b[0;34m)\u001b[0m\u001b[0;34m\u001b[0m\u001b[0;34m\u001b[0m\u001b[0m\n\u001b[0m",
      "\u001b[0;31mAttributeError\u001b[0m: 'SparkConf' object has no attribute 'createDataFrame'"
     ]
    }
   ],
   "source": [
    "import pyspark \n",
    "data = [[-1, 2], [-0.5, 6], [0, 10], [1, 18]]\n",
    "df = sprk.createDataFrame(data)"
   ]
  },
  {
   "cell_type": "code",
   "execution_count": 316,
   "id": "59324323",
   "metadata": {},
   "outputs": [
    {
     "name": "stdout",
     "output_type": "stream",
     "text": [
      "Offline scaled\n",
      "[[0. 0. 0.]\n",
      " [1. 0. 0.]\n",
      " [0. 0. 0.]]\n",
      "[[0.09090909 1.         1.        ]]\n",
      "[[0.04040404 0.44444444 0.44444444]]\n",
      "Online scaled\n",
      "[[0. 0. 0.]\n",
      " [1. 0. 0.]\n",
      " [0. 0. 0.]]\n",
      "[[0.09090909 1.         1.        ]]\n",
      "[[0.04040404 0.44444444 0.44444444]]\n"
     ]
    }
   ],
   "source": [
    "import numpy as np\n",
    "from sklearn.preprocessing import MinMaxScaler\n",
    "\n",
    "a = np.array([[1,2,3],[100,2,3],[1,2,3]])\n",
    "b = np.array([[10,20,30]])\n",
    "c = np.array([[5, 10, 15]])\n",
    "\n",
    "\"\"\" Scale on all datasets together in one batch \"\"\"\n",
    "offline_scaler = MinMaxScaler()\n",
    "offline_scaler.fit(np.vstack((a, b, c)))                # fit on whole data at once\n",
    "a_offline_scaled = offline_scaler.transform(a)\n",
    "b_offline_scaled = offline_scaler.transform(b)\n",
    "c_offline_scaled = offline_scaler.transform(c)\n",
    "print('Offline scaled')\n",
    "print(a_offline_scaled)\n",
    "print(b_offline_scaled)\n",
    "print(c_offline_scaled)\n",
    "\n",
    "\"\"\" Scale on all datasets together in minibatches \"\"\"\n",
    "online_scaler = MinMaxScaler()\n",
    "online_scaler.partial_fit(a)                            # partial fit 1\n",
    "online_scaler.partial_fit(b)                            # partial fit 2\n",
    "online_scaler.partial_fit(c)                            # partial fit 3\n",
    "a_online_scaled = online_scaler.transform(a)\n",
    "b_online_scaled = online_scaler.transform(b)\n",
    "c_online_scaled = online_scaler.transform(c)\n",
    "print('Online scaled')\n",
    "print(a_online_scaled)\n",
    "print(b_online_scaled)\n",
    "print(c_online_scaled)"
   ]
  },
  {
   "cell_type": "code",
   "execution_count": null,
   "id": "b0a8f2a2",
   "metadata": {},
   "outputs": [],
   "source": []
  },
  {
   "cell_type": "code",
   "execution_count": null,
   "id": "5dd0106a",
   "metadata": {},
   "outputs": [],
   "source": []
  }
 ],
 "metadata": {
  "kernelspec": {
   "display_name": "Python 3",
   "language": "python",
   "name": "python3"
  },
  "language_info": {
   "codemirror_mode": {
    "name": "ipython",
    "version": 3
   },
   "file_extension": ".py",
   "mimetype": "text/x-python",
   "name": "python",
   "nbconvert_exporter": "python",
   "pygments_lexer": "ipython3",
   "version": "3.8.8"
  }
 },
 "nbformat": 4,
 "nbformat_minor": 5
}
